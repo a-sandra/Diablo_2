{
 "cells": [
  {
   "cell_type": "markdown",
   "metadata": {},
   "source": [
    "# DIABLO Project"
   ]
  },
  {
   "cell_type": "code",
   "execution_count": 1,
   "metadata": {
    "jupyter": {
     "source_hidden": true
    }
   },
   "outputs": [],
   "source": [
    "#from IPython.display import Image\n",
    "#Image(r\"C:\\Users\\s.aumon\\PycharmProjects\\Diablo\\pic\\Diablo.png\")"
   ]
  },
  {
   "cell_type": "markdown",
   "metadata": {},
   "source": [
    "## Path of the package"
   ]
  },
  {
   "cell_type": "code",
   "execution_count": 2,
   "metadata": {},
   "outputs": [
    {
     "data": {
      "text/plain": [
       "Text(0.5,0.98,'figure title')"
      ]
     },
     "execution_count": 2,
     "metadata": {},
     "output_type": "execute_result"
    },
    {
     "data": {
      "text/plain": [
       "<Figure size 432x288 with 0 Axes>"
      ]
     },
     "metadata": {},
     "output_type": "display_data"
    }
   ],
   "source": [
    "import sys, os\n",
    "sys.path.append(\"/Users/picklepum/Documents/GitHub/Diablo_2/\")\n",
    "from beam import beam\n",
    "import madx_utils.madx_utils as mxu\n",
    "import pandas as pd\n",
    "import matplotlib.pyplot as plt\n",
    "plt.style.use(['seaborn-dark'])\n",
    "plt.suptitle('figure title', color='w')"
   ]
  },
  {
   "cell_type": "markdown",
   "metadata": {},
   "source": [
    "## Initialize the Beam object"
   ]
  },
  {
   "cell_type": "markdown",
   "metadata": {},
   "source": [
    "### two type of initialization"
   ]
  },
  {
   "cell_type": "markdown",
   "metadata": {},
   "source": [
    "- with the type of particle\n",
    "- without speciafying the particle type"
   ]
  },
  {
   "cell_type": "code",
   "execution_count": 3,
   "metadata": {},
   "outputs": [],
   "source": [
    "# initialization with the type of particle - the type of particle is optional, by default the type is a PROTON\n",
    "\n",
    "beam_test = beam.Beam(type_particle=\"PROTON\")"
   ]
  },
  {
   "cell_type": "code",
   "execution_count": 4,
   "metadata": {},
   "outputs": [],
   "source": [
    "# Example without speciafying that the particle is a proton\n",
    "\n",
    "beam_test_default = beam.Beam()"
   ]
  },
  {
   "cell_type": "markdown",
   "metadata": {},
   "source": [
    "## Import the STANDARD beam distribution"
   ]
  },
  {
   "cell_type": "markdown",
   "metadata": {},
   "source": [
    "Import a beam distribution with the standard format:\n",
    "- the harder should be #    X(mm)         XP(mrad)        Y(mm)         YP(mrad)        Z(mm)         W(MeV)\n",
    "- the units are in mm, mrad, MeV\n"
   ]
  },
  {
   "cell_type": "markdown",
   "metadata": {},
   "source": [
    "At that point, two possibilities:\n",
    "- the file exists\n",
    "- the files does not exist"
   ]
  },
  {
   "cell_type": "markdown",
   "metadata": {},
   "source": [
    "The file exists and with the good format: The distribution is loaded correctly"
   ]
  },
  {
   "cell_type": "code",
   "execution_count": 5,
   "metadata": {},
   "outputs": [
    {
     "name": "stdout",
     "output_type": "stream",
     "text": [
      "Yop\n"
     ]
    },
    {
     "data": {
      "text/plain": [
       "'The beam distribution has been loaded successfully , You should check the distribution is correctly formatted into the dataframe - type thenameofyourobject.distribution'"
      ]
     },
     "execution_count": 5,
     "metadata": {},
     "output_type": "execute_result"
    }
   ],
   "source": [
    "beam_test.read_distribution('Standard_distribution/CCL_Output_99.0.dat')"
   ]
  },
  {
   "cell_type": "markdown",
   "metadata": {},
   "source": [
    "The file does not exist: The distribution is not loaded correctly, the error meassage is printed"
   ]
  },
  {
   "cell_type": "code",
   "execution_count": 6,
   "metadata": {},
   "outputs": [
    {
     "name": "stdout",
     "output_type": "stream",
     "text": [
      "Ooops, the file is not found ¯\\_(ツ)_/¯\n",
      "Yop\n"
     ]
    }
   ],
   "source": [
    "beam_test_default.read_distribution('CCL_Output_99.0.dat')"
   ]
  },
  {
   "cell_type": "markdown",
   "metadata": {},
   "source": [
    "### Display the distribution as a dataframe"
   ]
  },
  {
   "cell_type": "code",
   "execution_count": 9,
   "metadata": {},
   "outputs": [
    {
     "data": {
      "text/html": [
       "<div>\n",
       "<style scoped>\n",
       "    .dataframe tbody tr th:only-of-type {\n",
       "        vertical-align: middle;\n",
       "    }\n",
       "\n",
       "    .dataframe tbody tr th {\n",
       "        vertical-align: top;\n",
       "    }\n",
       "\n",
       "    .dataframe thead th {\n",
       "        text-align: right;\n",
       "    }\n",
       "</style>\n",
       "<table border=\"1\" class=\"dataframe\">\n",
       "  <thead>\n",
       "    <tr style=\"text-align: right;\">\n",
       "      <th></th>\n",
       "      <th>X(mm)</th>\n",
       "      <th>XP(mrad)</th>\n",
       "      <th>Y(mm)</th>\n",
       "      <th>YP(mrad)</th>\n",
       "      <th>Z(mm)</th>\n",
       "      <th>W(MeV)</th>\n",
       "    </tr>\n",
       "  </thead>\n",
       "  <tbody>\n",
       "    <tr>\n",
       "      <th>0</th>\n",
       "      <td>-0.013987</td>\n",
       "      <td>-0.507061</td>\n",
       "      <td>0.591221</td>\n",
       "      <td>0.570521</td>\n",
       "      <td>-26.41257</td>\n",
       "      <td>98.34275</td>\n",
       "    </tr>\n",
       "    <tr>\n",
       "      <th>1</th>\n",
       "      <td>-0.076495</td>\n",
       "      <td>0.604121</td>\n",
       "      <td>0.374664</td>\n",
       "      <td>0.449614</td>\n",
       "      <td>62.97143</td>\n",
       "      <td>100.60880</td>\n",
       "    </tr>\n",
       "    <tr>\n",
       "      <th>2</th>\n",
       "      <td>0.120022</td>\n",
       "      <td>-1.843409</td>\n",
       "      <td>0.271826</td>\n",
       "      <td>0.270927</td>\n",
       "      <td>-71.10706</td>\n",
       "      <td>97.24772</td>\n",
       "    </tr>\n",
       "    <tr>\n",
       "      <th>3</th>\n",
       "      <td>-0.446440</td>\n",
       "      <td>0.198818</td>\n",
       "      <td>0.212682</td>\n",
       "      <td>0.279562</td>\n",
       "      <td>31.49537</td>\n",
       "      <td>99.79799</td>\n",
       "    </tr>\n",
       "    <tr>\n",
       "      <th>4</th>\n",
       "      <td>0.173062</td>\n",
       "      <td>0.020461</td>\n",
       "      <td>-0.967764</td>\n",
       "      <td>-0.511022</td>\n",
       "      <td>71.82682</td>\n",
       "      <td>100.83660</td>\n",
       "    </tr>\n",
       "  </tbody>\n",
       "</table>\n",
       "</div>"
      ],
      "text/plain": [
       "      X(mm)  XP(mrad)     Y(mm)  YP(mrad)     Z(mm)     W(MeV)\n",
       "0 -0.013987 -0.507061  0.591221  0.570521 -26.41257   98.34275\n",
       "1 -0.076495  0.604121  0.374664  0.449614  62.97143  100.60880\n",
       "2  0.120022 -1.843409  0.271826  0.270927 -71.10706   97.24772\n",
       "3 -0.446440  0.198818  0.212682  0.279562  31.49537   99.79799\n",
       "4  0.173062  0.020461 -0.967764 -0.511022  71.82682  100.83660"
      ]
     },
     "execution_count": 9,
     "metadata": {},
     "output_type": "execute_result"
    }
   ],
   "source": [
    "beam_test.distribution[:5]"
   ]
  },
  {
   "cell_type": "code",
   "execution_count": null,
   "metadata": {},
   "outputs": [],
   "source": []
  },
  {
   "cell_type": "markdown",
   "metadata": {},
   "source": [
    "### Standard to TRAVEL"
   ]
  },
  {
   "cell_type": "code",
   "execution_count": 6,
   "metadata": {},
   "outputs": [
    {
     "data": {
      "text/plain": [
       "1037.4687790439543"
      ]
     },
     "execution_count": 6,
     "metadata": {},
     "output_type": "execute_result"
    }
   ],
   "source": [
    "beam_test._e_total_av"
   ]
  },
  {
   "cell_type": "code",
   "execution_count": 10,
   "metadata": {},
   "outputs": [],
   "source": [
    "beam_test.standard2travel(\"travel.dat\", phi_ref_rad = 0, rf_frequency=3.0e9)"
   ]
  },
  {
   "cell_type": "markdown",
   "metadata": {},
   "source": [
    "## Plot the distributions"
   ]
  },
  {
   "cell_type": "code",
   "execution_count": 11,
   "metadata": {},
   "outputs": [],
   "source": [
    "#plm.hist(beam_test.y, \"X(mm)\", \"# Occurence\", \"Y\")\n",
    "#plm.hist(beam_test.x, \"X(mm)\", \"# Occurence\", \"X\")"
   ]
  },
  {
   "cell_type": "code",
   "execution_count": 12,
   "metadata": {},
   "outputs": [
    {
     "data": {
      "image/png": "[encoded data removed]",
      "text/plain": [
       "<Figure size 864x576 with 4 Axes>"
      ]
     },
     "metadata": {},
     "output_type": "display_data"
    }
   ],
   "source": [
    "beam_test.phase_space_hist((12,8))"
   ]
  },
  {
   "cell_type": "code",
   "execution_count": 13,
   "metadata": {},
   "outputs": [
    {
     "data": {
      "image/png": "[encoded data removed]",
      "text/plain": [
       "<Figure size 432x288 with 1 Axes>"
      ]
     },
     "metadata": {},
     "output_type": "display_data"
    }
   ],
   "source": [
    "beam_test.hist(beam_test.x, \"X(mm)\", \"# Occurence\", \"X\")"
   ]
  },
  {
   "cell_type": "markdown",
   "metadata": {},
   "source": [
    "## Emittance"
   ]
  },
  {
   "cell_type": "markdown",
   "metadata": {},
   "source": [
    "Compute the emittance from distribution"
   ]
  },
  {
   "cell_type": "code",
   "execution_count": 11,
   "metadata": {},
   "outputs": [],
   "source": [
    "beam_test.emittance_calculation()"
   ]
  },
  {
   "cell_type": "markdown",
   "metadata": {},
   "source": [
    "In the previous method, twiss parameters were also computed"
   ]
  },
  {
   "cell_type": "code",
   "execution_count": 12,
   "metadata": {},
   "outputs": [
    {
     "name": "stdout",
     "output_type": "stream",
     "text": [
      "Betx = 1.0029649567757217m , Bety = 4.430467054177802m\n",
      "Alfx = 1.2960277441192516 , Alfy = -4.923441076856339\n",
      "Gamma_x = 2.671766242104165 , Gamma_y = 5.696977706554765\n",
      "ex = 0.06228325100836931 mm.mrad , ey = 0.08238682413940983 mm.mrad\n"
     ]
    }
   ],
   "source": [
    "print(\"Betx = \" + str(beam_test.bx) + \"m\",  \", Bety = \" + str(beam_test.by) + \"m\")\n",
    "print(\"Alfx = \" + str(beam_test.ax) ,  \", Alfy = \" + str(beam_test.ay) )\n",
    "print(\"Gamma_x = \" + str(beam_test.gx) ,  \", Gamma_y = \" + str(beam_test.gy) )\n",
    "print(\"ex = \" + str(beam_test.e_x) +\" mm.mrad\" ,  \", ey = \" + str(beam_test.e_y) +\" mm.mrad\" )"
   ]
  },
  {
   "cell_type": "markdown",
   "metadata": {},
   "source": [
    "The method emittance_ellipse() compute the coordinates of the RMS emittance ellipse"
   ]
  },
  {
   "cell_type": "markdown",
   "metadata": {},
   "source": [
    "- this could be in a method as well"
   ]
  },
  {
   "cell_type": "code",
   "execution_count": 13,
   "metadata": {},
   "outputs": [
    {
     "data": {
      "image/png": "[encoded data removed]",
      "text/plain": [
       "<Figure size 432x288 with 1 Axes>"
      ]
     },
     "metadata": {},
     "output_type": "display_data"
    }
   ],
   "source": [
    "beam_test.emittance_ellipse()\n",
    "plt.plot(beam_test.xell,beam_test.xpell, label=\"X\")\n",
    "plt.plot(beam_test.yell,beam_test.ypell, label=\"Y\")\n",
    "plt.grid()\n",
    "plt.xlabel(\"x/y (mm)\")\n",
    "plt.ylabel(\"xp/yp (mrad)\")\n",
    "plt.title(\"RMS Ellipse Emittance\");"
   ]
  },
  {
   "cell_type": "markdown",
   "metadata": {},
   "source": [
    "## Typical working loop for me"
   ]
  },
  {
   "cell_type": "markdown",
   "metadata": {},
   "source": [
    "- Import beam distribution from Veliko (Standard format)"
   ]
  },
  {
   "cell_type": "code",
   "execution_count": 3,
   "metadata": {},
   "outputs": [
    {
     "name": "stdout",
     "output_type": "stream",
     "text": [
      "Yop\n"
     ]
    },
    {
     "data": {
      "text/plain": [
       "'The beam distribution has been loaded successfully , You should check the distribution is correctly formatted into the dataframe - type thenameofyourobject.distribution'"
      ]
     },
     "execution_count": 3,
     "metadata": {},
     "output_type": "execute_result"
    }
   ],
   "source": [
    "bm = beam.Beam()\n",
    "bm.read_distribution('Standard_distribution/CCL_Output_99.0.dat')"
   ]
  },
  {
   "cell_type": "code",
   "execution_count": 4,
   "metadata": {},
   "outputs": [
    {
     "data": {
      "text/html": [
       "<div>\n",
       "<style scoped>\n",
       "    .dataframe tbody tr th:only-of-type {\n",
       "        vertical-align: middle;\n",
       "    }\n",
       "\n",
       "    .dataframe tbody tr th {\n",
       "        vertical-align: top;\n",
       "    }\n",
       "\n",
       "    .dataframe thead th {\n",
       "        text-align: right;\n",
       "    }\n",
       "</style>\n",
       "<table border=\"1\" class=\"dataframe\">\n",
       "  <thead>\n",
       "    <tr style=\"text-align: right;\">\n",
       "      <th></th>\n",
       "      <th>X(mm)</th>\n",
       "      <th>XP(mrad)</th>\n",
       "      <th>Y(mm)</th>\n",
       "      <th>YP(mrad)</th>\n",
       "      <th>Z(mm)</th>\n",
       "      <th>W(MeV)</th>\n",
       "    </tr>\n",
       "  </thead>\n",
       "  <tbody>\n",
       "    <tr>\n",
       "      <th>0</th>\n",
       "      <td>-0.013987</td>\n",
       "      <td>-0.507061</td>\n",
       "      <td>0.591221</td>\n",
       "      <td>0.570521</td>\n",
       "      <td>-26.412570</td>\n",
       "      <td>98.34275</td>\n",
       "    </tr>\n",
       "    <tr>\n",
       "      <th>1</th>\n",
       "      <td>-0.076495</td>\n",
       "      <td>0.604121</td>\n",
       "      <td>0.374664</td>\n",
       "      <td>0.449614</td>\n",
       "      <td>62.971430</td>\n",
       "      <td>100.60880</td>\n",
       "    </tr>\n",
       "    <tr>\n",
       "      <th>2</th>\n",
       "      <td>0.120022</td>\n",
       "      <td>-1.843409</td>\n",
       "      <td>0.271826</td>\n",
       "      <td>0.270927</td>\n",
       "      <td>-71.107060</td>\n",
       "      <td>97.24772</td>\n",
       "    </tr>\n",
       "    <tr>\n",
       "      <th>3</th>\n",
       "      <td>-0.446440</td>\n",
       "      <td>0.198818</td>\n",
       "      <td>0.212682</td>\n",
       "      <td>0.279562</td>\n",
       "      <td>31.495370</td>\n",
       "      <td>99.79799</td>\n",
       "    </tr>\n",
       "    <tr>\n",
       "      <th>4</th>\n",
       "      <td>0.173062</td>\n",
       "      <td>0.020461</td>\n",
       "      <td>-0.967764</td>\n",
       "      <td>-0.511022</td>\n",
       "      <td>71.826820</td>\n",
       "      <td>100.83660</td>\n",
       "    </tr>\n",
       "    <tr>\n",
       "      <th>5</th>\n",
       "      <td>0.384915</td>\n",
       "      <td>-0.284346</td>\n",
       "      <td>-0.202174</td>\n",
       "      <td>-0.147238</td>\n",
       "      <td>-76.230940</td>\n",
       "      <td>97.12464</td>\n",
       "    </tr>\n",
       "    <tr>\n",
       "      <th>6</th>\n",
       "      <td>0.144913</td>\n",
       "      <td>0.407902</td>\n",
       "      <td>-0.426280</td>\n",
       "      <td>-0.520321</td>\n",
       "      <td>-45.540410</td>\n",
       "      <td>97.87105</td>\n",
       "    </tr>\n",
       "    <tr>\n",
       "      <th>7</th>\n",
       "      <td>-0.178529</td>\n",
       "      <td>0.354457</td>\n",
       "      <td>0.999733</td>\n",
       "      <td>1.145273</td>\n",
       "      <td>4.749856</td>\n",
       "      <td>99.12066</td>\n",
       "    </tr>\n",
       "    <tr>\n",
       "      <th>8</th>\n",
       "      <td>0.053359</td>\n",
       "      <td>-0.718086</td>\n",
       "      <td>0.939317</td>\n",
       "      <td>1.120032</td>\n",
       "      <td>-7.014889</td>\n",
       "      <td>98.82597</td>\n",
       "    </tr>\n",
       "    <tr>\n",
       "      <th>9</th>\n",
       "      <td>-0.340739</td>\n",
       "      <td>0.597139</td>\n",
       "      <td>-0.428944</td>\n",
       "      <td>-0.811466</td>\n",
       "      <td>-60.633070</td>\n",
       "      <td>97.50130</td>\n",
       "    </tr>\n",
       "  </tbody>\n",
       "</table>\n",
       "</div>"
      ],
      "text/plain": [
       "      X(mm)  XP(mrad)     Y(mm)  YP(mrad)      Z(mm)     W(MeV)\n",
       "0 -0.013987 -0.507061  0.591221  0.570521 -26.412570   98.34275\n",
       "1 -0.076495  0.604121  0.374664  0.449614  62.971430  100.60880\n",
       "2  0.120022 -1.843409  0.271826  0.270927 -71.107060   97.24772\n",
       "3 -0.446440  0.198818  0.212682  0.279562  31.495370   99.79799\n",
       "4  0.173062  0.020461 -0.967764 -0.511022  71.826820  100.83660\n",
       "5  0.384915 -0.284346 -0.202174 -0.147238 -76.230940   97.12464\n",
       "6  0.144913  0.407902 -0.426280 -0.520321 -45.540410   97.87105\n",
       "7 -0.178529  0.354457  0.999733  1.145273   4.749856   99.12066\n",
       "8  0.053359 -0.718086  0.939317  1.120032  -7.014889   98.82597\n",
       "9 -0.340739  0.597139 -0.428944 -0.811466 -60.633070   97.50130"
      ]
     },
     "execution_count": 4,
     "metadata": {},
     "output_type": "execute_result"
    }
   ],
   "source": [
    "bm.distribution[:10]"
   ]
  },
  {
   "cell_type": "markdown",
   "metadata": {},
   "source": [
    "- Convert it into MADX-PTC input"
   ]
  },
  {
   "cell_type": "code",
   "execution_count": 5,
   "metadata": {},
   "outputs": [
    {
     "data": {
      "text/plain": [
       "'Translated'"
      ]
     },
     "execution_count": 5,
     "metadata": {},
     "output_type": "execute_result"
    }
   ],
   "source": [
    "# Method that converts a stanard method to ptc distribution\n",
    "\n",
    "bm.standard2ptc(n=bm.n_particle)"
   ]
  },
  {
   "cell_type": "code",
   "execution_count": 7,
   "metadata": {},
   "outputs": [
    {
     "data": {
      "text/html": [
       "<div>\n",
       "<style scoped>\n",
       "    .dataframe tbody tr th:only-of-type {\n",
       "        vertical-align: middle;\n",
       "    }\n",
       "\n",
       "    .dataframe tbody tr th {\n",
       "        vertical-align: top;\n",
       "    }\n",
       "\n",
       "    .dataframe thead th {\n",
       "        text-align: right;\n",
       "    }\n",
       "</style>\n",
       "<table border=\"1\" class=\"dataframe\">\n",
       "  <thead>\n",
       "    <tr style=\"text-align: right;\">\n",
       "      <th></th>\n",
       "      <th>index</th>\n",
       "      <th>X</th>\n",
       "      <th>XP</th>\n",
       "      <th>Y</th>\n",
       "      <th>YP</th>\n",
       "      <th>T</th>\n",
       "      <th>PT</th>\n",
       "    </tr>\n",
       "  </thead>\n",
       "  <tbody>\n",
       "    <tr>\n",
       "      <th>0</th>\n",
       "      <td>9901</td>\n",
       "      <td>-0.000038</td>\n",
       "      <td>-0.000925</td>\n",
       "      <td>-0.000862</td>\n",
       "      <td>-0.001132</td>\n",
       "      <td>0.091334</td>\n",
       "      <td>-0.002630</td>\n",
       "    </tr>\n",
       "    <tr>\n",
       "      <th>1</th>\n",
       "      <td>1268</td>\n",
       "      <td>0.000064</td>\n",
       "      <td>-0.000024</td>\n",
       "      <td>0.000163</td>\n",
       "      <td>0.000107</td>\n",
       "      <td>0.016105</td>\n",
       "      <td>-0.000833</td>\n",
       "    </tr>\n",
       "    <tr>\n",
       "      <th>2</th>\n",
       "      <td>16609</td>\n",
       "      <td>0.000132</td>\n",
       "      <td>-0.000611</td>\n",
       "      <td>-0.000076</td>\n",
       "      <td>-0.000114</td>\n",
       "      <td>-0.181478</td>\n",
       "      <td>0.004034</td>\n",
       "    </tr>\n",
       "    <tr>\n",
       "      <th>3</th>\n",
       "      <td>2536</td>\n",
       "      <td>-0.000279</td>\n",
       "      <td>0.000474</td>\n",
       "      <td>0.000179</td>\n",
       "      <td>0.000386</td>\n",
       "      <td>0.181308</td>\n",
       "      <td>-0.004744</td>\n",
       "    </tr>\n",
       "    <tr>\n",
       "      <th>4</th>\n",
       "      <td>3884</td>\n",
       "      <td>0.000384</td>\n",
       "      <td>-0.000411</td>\n",
       "      <td>0.000094</td>\n",
       "      <td>-0.000062</td>\n",
       "      <td>0.104723</td>\n",
       "      <td>-0.002948</td>\n",
       "    </tr>\n",
       "  </tbody>\n",
       "</table>\n",
       "</div>"
      ],
      "text/plain": [
       "   index         X        XP         Y        YP         T        PT\n",
       "0   9901 -0.000038 -0.000925 -0.000862 -0.001132  0.091334 -0.002630\n",
       "1   1268  0.000064 -0.000024  0.000163  0.000107  0.016105 -0.000833\n",
       "2  16609  0.000132 -0.000611 -0.000076 -0.000114 -0.181478  0.004034\n",
       "3   2536 -0.000279  0.000474  0.000179  0.000386  0.181308 -0.004744\n",
       "4   3884  0.000384 -0.000411  0.000094 -0.000062  0.104723 -0.002948"
      ]
     },
     "execution_count": 7,
     "metadata": {},
     "output_type": "execute_result"
    }
   ],
   "source": [
    "bm.ptc_input_distribution_cut[:5]"
   ]
  },
  {
   "cell_type": "code",
   "execution_count": 8,
   "metadata": {},
   "outputs": [
    {
     "name": "stdout",
     "output_type": "stream",
     "text": [
      "print_coord acquired\n"
     ]
    }
   ],
   "source": [
    "bm.write_distribution(\"distribution_ptc\")"
   ]
  },
  {
   "cell_type": "code",
   "execution_count": null,
   "metadata": {},
   "outputs": [],
   "source": []
  }
 ],
 "metadata": {
  "kernelspec": {
   "display_name": "Python 3 (ipykernel)",
   "language": "python",
   "name": "python3"
  },
  "language_info": {
   "codemirror_mode": {
    "name": "ipython",
    "version": 3
   },
   "file_extension": ".py",
   "mimetype": "text/x-python",
   "name": "python",
   "nbconvert_exporter": "python",
   "pygments_lexer": "ipython3",
   "version": "3.9.12"
  }
 },
 "nbformat": 4,
 "nbformat_minor": 4
}
