{
 "cells": [
  {
   "cell_type": "code",
   "execution_count": 2,
   "id": "7402a04a-494d-4b87-9aaf-8ffd77e9ea01",
   "metadata": {},
   "outputs": [
    {
     "name": "stderr",
     "output_type": "stream",
     "text": [
      "/Users/pickle/opt/anaconda3/lib/python3.8/site-packages/scipy/__init__.py:146: UserWarning: A NumPy version >=1.16.5 and <1.23.0 is required for this version of SciPy (detected version 1.23.1\n",
      "  warnings.warn(f\"A NumPy version >={np_minversion} and <{np_maxversion}\"\n"
     ]
    }
   ],
   "source": [
    "import numpy as np\n",
    "import pandas as pd\n",
    "import matplotlib.pyplot as plt\n",
    "import sys\n",
    "\n",
    "sys.path.append(\"/Users/pickle/Documents/GitHub/Diablo_2\")\n",
    "from beam import beam\n",
    "import madx_utils.madx_utils as mxu\n",
    "import optics_utils.transfer_matrices as opu"
   ]
  },
  {
   "cell_type": "code",
   "execution_count": 2,
   "id": "f413ad8e-d6b0-4ef1-b58c-0adfc67be68d",
   "metadata": {},
   "outputs": [],
   "source": [
    "lattice_file = \"lattice_example/optics_71.7_MeV.twiss\"\n",
    "df_optics = mxu.get_twiss(lattice_file)\n",
    "df_optics[:10];"
   ]
  },
  {
   "cell_type": "code",
   "execution_count": 11,
   "id": "6e3e2409-6852-46b9-ab1b-b113a2666039",
   "metadata": {},
   "outputs": [
    {
     "name": "stdout",
     "output_type": "stream",
     "text": [
      "MARKER\n",
      "DRIFT\n",
      "INSTRUMENT\n",
      "MONITOR\n",
      "INSTRUMENT\n",
      "DRIFT\n",
      "INSTRUMENT\n",
      "INSTRUMENT\n",
      "DRIFT\n",
      "INSTRUMENT\n"
     ]
    }
   ],
   "source": [
    "length_df = len(df_optics[:10])\n",
    "new_df = df_optics[:10]\n",
    "for index in np.arange(length_df):\n",
    "    print(new_df.iloc[index][\"KEYWORD\"])"
   ]
  },
  {
   "cell_type": "code",
   "execution_count": 3,
   "id": "e55c6657-4f90-4d79-a995-1a5297ac0ae6",
   "metadata": {},
   "outputs": [
    {
     "name": "stdout",
     "output_type": "stream",
     "text": [
      "beam created without any input beam distribution. Use read_distribution(filename) et voila\n",
      "Hello\n",
      "je suis la\n"
     ]
    },
    {
     "data": {
      "text/plain": [
       "'The beam distribution has been loaded successfully , You should check the distribution is correctly formatted into the dataframe - type thenameofyourobject.distribution'"
      ]
     },
     "execution_count": 3,
     "metadata": {},
     "output_type": "execute_result"
    }
   ],
   "source": [
    "bm = beam.Beam()\n",
    "bm.read_distribution(\"distribution_example/CCL_Output_71.7.dat\")"
   ]
  },
  {
   "cell_type": "code",
   "execution_count": 39,
   "id": "8d4d40b0-3dc8-4001-a6de-5dec89fbe045",
   "metadata": {},
   "outputs": [
    {
     "data": {
      "text/plain": [
       "array([[ 2.990e-04, -2.000e-04,  2.660e-04, ...,  6.500e-05, -2.110e-04,\n",
       "         5.890e-04],\n",
       "       [-4.060e-04, -2.600e-05, -1.492e-03, ..., -4.990e-04,  1.106e-03,\n",
       "        -8.190e-04]])"
      ]
     },
     "execution_count": 39,
     "metadata": {},
     "output_type": "execute_result"
    }
   ],
   "source": [
    "df = bm.distribution[[\"X(mm)\", \"XP(mrad)\"]]*0.001\n",
    "new_df = np.transpose(df.to_numpy())\n",
    "new_df"
   ]
  },
  {
   "cell_type": "code",
   "execution_count": 45,
   "id": "addeeb49-7d30-49ec-be5d-f52f50cec4fd",
   "metadata": {},
   "outputs": [
    {
     "data": {
      "text/html": [
       "<div>\n",
       "<style scoped>\n",
       "    .dataframe tbody tr th:only-of-type {\n",
       "        vertical-align: middle;\n",
       "    }\n",
       "\n",
       "    .dataframe tbody tr th {\n",
       "        vertical-align: top;\n",
       "    }\n",
       "\n",
       "    .dataframe thead th {\n",
       "        text-align: right;\n",
       "    }\n",
       "</style>\n",
       "<table border=\"1\" class=\"dataframe\">\n",
       "  <thead>\n",
       "    <tr style=\"text-align: right;\">\n",
       "      <th></th>\n",
       "      <th>X(mm)</th>\n",
       "      <th>XP(mrad)</th>\n",
       "    </tr>\n",
       "  </thead>\n",
       "  <tbody>\n",
       "    <tr>\n",
       "      <th>0</th>\n",
       "      <td>0.000299</td>\n",
       "      <td>-0.000406</td>\n",
       "    </tr>\n",
       "    <tr>\n",
       "      <th>1</th>\n",
       "      <td>-0.000200</td>\n",
       "      <td>-0.000026</td>\n",
       "    </tr>\n",
       "  </tbody>\n",
       "</table>\n",
       "</div>"
      ],
      "text/plain": [
       "      X(mm)  XP(mrad)\n",
       "0  0.000299 -0.000406\n",
       "1 -0.000200 -0.000026"
      ]
     },
     "execution_count": 45,
     "metadata": {},
     "output_type": "execute_result"
    }
   ],
   "source": [
    "df[:2]"
   ]
  },
  {
   "cell_type": "code",
   "execution_count": 58,
   "id": "cd487352-5ee4-43a8-847c-3cb15d9a9f53",
   "metadata": {},
   "outputs": [],
   "source": [
    "-0.00020 - 0.1227*0.000026\n",
    "nn = df[\"X(mm)\"] + 0.1227*df[\"XP(mrad)\"]"
   ]
  },
  {
   "cell_type": "code",
   "execution_count": 59,
   "id": "79a2ffce-875e-422b-8ab6-e83b40c6ef76",
   "metadata": {},
   "outputs": [
    {
     "data": {
      "text/plain": [
       "array([[ 2.491838e-04, -2.031902e-04,  8.293160e-05, ...,  3.772700e-06,\n",
       "        -7.529380e-05,  4.885087e-04],\n",
       "       [-4.060000e-04, -2.600000e-05, -1.492000e-03, ..., -4.990000e-04,\n",
       "         1.106000e-03, -8.190000e-04]])"
      ]
     },
     "execution_count": 59,
     "metadata": {},
     "output_type": "execute_result"
    }
   ],
   "source": [
    "#(9758,2)\n",
    "af = opu.md(0.1227).dot(new_df)\n",
    "af"
   ]
  },
  {
   "cell_type": "code",
   "execution_count": 61,
   "id": "694d6b10-f6ce-447a-84dc-c85bd8fdb5ea",
   "metadata": {},
   "outputs": [
    {
     "data": {
      "text/plain": [
       "<matplotlib.collections.PathCollection at 0x7ff1390faaf0>"
      ]
     },
     "execution_count": 61,
     "metadata": {},
     "output_type": "execute_result"
    },
    {
     "data": {
      "image/png": "[encoded data removed]",
      "text/plain": [
       "<Figure size 432x288 with 1 Axes>"
      ]
     },
     "metadata": {
      "needs_background": "light"
     },
     "output_type": "display_data"
    }
   ],
   "source": [
    "plt.scatter(df[\"X(mm)\"], df[\"XP(mrad)\"])\n",
    "plt.scatter(nn, af[1])\n",
    "plt.scatter(af[0], af[1])"
   ]
  },
  {
   "cell_type": "code",
   "execution_count": 47,
   "id": "12df5be3-590f-4011-b9db-f103ff534870",
   "metadata": {},
   "outputs": [
    {
     "data": {
      "text/plain": [
       "0       0.0\n",
       "1       0.0\n",
       "2       0.0\n",
       "3       0.0\n",
       "4       0.0\n",
       "       ... \n",
       "9753    0.0\n",
       "9754    0.0\n",
       "9755    0.0\n",
       "9756    0.0\n",
       "9757    0.0\n",
       "Name: XP(mrad), Length: 9758, dtype: float64"
      ]
     },
     "execution_count": 47,
     "metadata": {},
     "output_type": "execute_result"
    }
   ],
   "source": [
    "df[\"XP(mrad)\"] - af[1]"
   ]
  },
  {
   "cell_type": "code",
   "execution_count": 48,
   "id": "0cd7c084-5e30-443e-b0dc-785872f08695",
   "metadata": {},
   "outputs": [
    {
     "data": {
      "text/plain": [
       "0       0.000050\n",
       "1       0.000003\n",
       "2       0.000183\n",
       "3      -0.000133\n",
       "4      -0.000088\n",
       "          ...   \n",
       "9753   -0.000069\n",
       "9754    0.000094\n",
       "9755    0.000061\n",
       "9756   -0.000136\n",
       "9757    0.000100\n",
       "Name: X(mm), Length: 9758, dtype: float64"
      ]
     },
     "execution_count": 48,
     "metadata": {},
     "output_type": "execute_result"
    }
   ],
   "source": [
    "df[\"X(mm)\"]"
   ]
  },
  {
   "cell_type": "code",
   "execution_count": 57,
   "id": "26f5c5c7-65db-4ef6-9660-ecda76285cf5",
   "metadata": {},
   "outputs": [
    {
     "data": {
      "text/plain": [
       "0       0.000336\n",
       "1      -0.000225\n",
       "2       0.000299\n",
       "3      -0.000362\n",
       "4      -0.000428\n",
       "          ...   \n",
       "9753   -0.000068\n",
       "9754    0.000591\n",
       "9755    0.000073\n",
       "9756   -0.000237\n",
       "9757    0.000661\n",
       "Name: X(mm), Length: 9758, dtype: float64"
      ]
     },
     "execution_count": 57,
     "metadata": {},
     "output_type": "execute_result"
    }
   ],
   "source": [
    "nn"
   ]
  },
  {
   "cell_type": "code",
   "execution_count": 64,
   "id": "831b0457-f4a2-48ba-8865-643f859db73a",
   "metadata": {},
   "outputs": [
    {
     "data": {
      "text/plain": [
       "array([[1.    , 0.1627],\n",
       "       [0.    , 1.    ]])"
      ]
     },
     "execution_count": 64,
     "metadata": {},
     "output_type": "execute_result"
    }
   ],
   "source": [
    "opu.md(0.04).dot(opu.md(0.1227))"
   ]
  },
  {
   "cell_type": "code",
   "execution_count": 65,
   "id": "795d1fa1-76f6-4cbf-aad5-fade06e17f74",
   "metadata": {},
   "outputs": [
    {
     "data": {
      "text/plain": [
       "array([1, 2])"
      ]
     },
     "execution_count": 65,
     "metadata": {},
     "output_type": "execute_result"
    }
   ],
   "source": [
    "np.arange(1, 3)"
   ]
  },
  {
   "cell_type": "code",
   "execution_count": 67,
   "id": "e70db1a8-3b7c-47ec-a481-808046823965",
   "metadata": {},
   "outputs": [
    {
     "data": {
      "text/plain": [
       "array([[1.    , 0.1227],\n",
       "       [0.    , 1.    ]])"
      ]
     },
     "execution_count": 67,
     "metadata": {},
     "output_type": "execute_result"
    }
   ],
   "source": [
    "nn=opu.md(0.1227)\n",
    "nn"
   ]
  },
  {
   "cell_type": "code",
   "execution_count": 107,
   "id": "cc787783-b5ff-47e6-a98d-276977293846",
   "metadata": {},
   "outputs": [
    {
     "data": {
      "text/plain": [
       "array([[1.    , 0.1627],\n",
       "       [0.    , 1.    ]])"
      ]
     },
     "execution_count": 107,
     "metadata": {},
     "output_type": "execute_result"
    }
   ],
   "source": [
    "mm = opu.md(0.04).dot(opu.md(0.1227))\n",
    "mm"
   ]
  },
  {
   "cell_type": "code",
   "execution_count": 112,
   "id": "78f48f34-0122-4710-aef6-edf091981d82",
   "metadata": {},
   "outputs": [
    {
     "data": {
      "text/plain": [
       "array([[1.    , 0.1227],\n",
       "       [0.    , 1.    ],\n",
       "       [1.    , 0.1627],\n",
       "       [0.    , 1.    ]])"
      ]
     },
     "execution_count": 112,
     "metadata": {},
     "output_type": "execute_result"
    }
   ],
   "source": [
    "tt = np.append(nn, mm, axis =0)\n",
    "tt"
   ]
  },
  {
   "cell_type": "code",
   "execution_count": 104,
   "id": "5b60ea8e-99cd-4dd9-a765-d3c3bb462be9",
   "metadata": {},
   "outputs": [
    {
     "data": {
      "text/plain": [
       "array([[1.    , 0.1227],\n",
       "       [0.    , 1.    ]])"
      ]
     },
     "execution_count": 104,
     "metadata": {},
     "output_type": "execute_result"
    }
   ],
   "source": [
    "nn"
   ]
  },
  {
   "cell_type": "code",
   "execution_count": 106,
   "id": "aa1ee27b-0c6c-4af7-9ece-37a695fa8658",
   "metadata": {},
   "outputs": [
    {
     "data": {
      "text/plain": [
       "array([[1.    , 0.3127],\n",
       "       [0.    , 1.    ]])"
      ]
     },
     "execution_count": 106,
     "metadata": {},
     "output_type": "execute_result"
    }
   ],
   "source": [
    "uu = opu.md(0.15).dot(opu.md(0.04)).dot(opu.md(0.1227))\n",
    "uu"
   ]
  },
  {
   "cell_type": "code",
   "execution_count": 116,
   "id": "9c9453a9-5d99-4c63-8763-162244525738",
   "metadata": {},
   "outputs": [
    {
     "data": {
      "text/plain": [
       "array([[[1.    , 0.1227],\n",
       "        [0.    , 1.    ]],\n",
       "\n",
       "       [[1.    , 0.1627],\n",
       "        [0.    , 1.    ]],\n",
       "\n",
       "       [[1.    , 0.3127],\n",
       "        [0.    , 1.    ]]])"
      ]
     },
     "execution_count": 116,
     "metadata": {},
     "output_type": "execute_result"
    }
   ],
   "source": [
    "np.append(tt,uu, axis =0).reshape(3,2,2)"
   ]
  },
  {
   "cell_type": "code",
   "execution_count": 117,
   "id": "d84a5b34-63a6-414d-bf4c-b895b6c83a0c",
   "metadata": {},
   "outputs": [
    {
     "data": {
      "text/plain": [
       "array([0, 1, 2])"
      ]
     },
     "execution_count": 117,
     "metadata": {},
     "output_type": "execute_result"
    }
   ],
   "source": [
    "np.arange(0,3)"
   ]
  },
  {
   "cell_type": "code",
   "execution_count": 121,
   "id": "2a4b4c4e-17d0-4d12-ba05-f05da4acf3db",
   "metadata": {},
   "outputs": [
    {
     "data": {
      "text/plain": [
       "array([[0., 0.],\n",
       "       [0., 0.],\n",
       "       [0., 0.]])"
      ]
     },
     "execution_count": 121,
     "metadata": {},
     "output_type": "execute_result"
    }
   ],
   "source": [
    "np.zeros((3,2))"
   ]
  },
  {
   "cell_type": "code",
   "execution_count": 4,
   "id": "52b6c28c-d813-4322-82bb-77758f2bb9c9",
   "metadata": {},
   "outputs": [
    {
     "data": {
      "text/plain": [
       "array([[[1.  , 0.15],\n",
       "        [0.  , 1.  ]]])"
      ]
     },
     "execution_count": 4,
     "metadata": {},
     "output_type": "execute_result"
    }
   ],
   "source": [
    "nn = np.array([ opu.md(0.15) ])\n",
    "nn"
   ]
  },
  {
   "cell_type": "code",
   "execution_count": 5,
   "id": "42965cac-f91f-433c-bf7b-8cdac94579b5",
   "metadata": {},
   "outputs": [
    {
     "data": {
      "text/plain": [
       "(1, 2, 2)"
      ]
     },
     "execution_count": 5,
     "metadata": {},
     "output_type": "execute_result"
    }
   ],
   "source": [
    "nn.shape"
   ]
  },
  {
   "cell_type": "code",
   "execution_count": 16,
   "id": "08ce1f5e-f10f-4a9b-8dd0-41cb3a885374",
   "metadata": {},
   "outputs": [],
   "source": [
    "def generate_dift(l):\n",
    "    return opu.md(l)"
   ]
  },
  {
   "cell_type": "code",
   "execution_count": null,
   "id": "080df7bc-07d8-46ab-a3ef-07bc6a07f8ff",
   "metadata": {},
   "outputs": [],
   "source": [
    "import random"
   ]
  },
  {
   "cell_type": "code",
   "execution_count": 37,
   "id": "90fa78ac-97dc-4f92-869c-8a19d45a29b0",
   "metadata": {},
   "outputs": [
    {
     "name": "stdout",
     "output_type": "stream",
     "text": [
      "iteration 0\n",
      "[[[1.   0.1 ]\n",
      "  [0.   1.  ]]\n",
      "\n",
      " [[1.   0.44]\n",
      "  [0.   1.  ]]\n",
      "\n",
      " [[0.   0.  ]\n",
      "  [0.   0.  ]]\n",
      "\n",
      " [[0.   0.  ]\n",
      "  [0.   0.  ]]\n",
      "\n",
      " [[0.   0.  ]\n",
      "  [0.   0.  ]]]\n",
      "iteration 1\n",
      "[[[1.   0.1 ]\n",
      "  [0.   1.  ]]\n",
      "\n",
      " [[1.   0.44]\n",
      "  [0.   1.  ]]\n",
      "\n",
      " [[1.   2.94]\n",
      "  [0.   1.  ]]\n",
      "\n",
      " [[0.   0.  ]\n",
      "  [0.   0.  ]]\n",
      "\n",
      " [[0.   0.  ]\n",
      "  [0.   0.  ]]]\n",
      "iteration 2\n",
      "[[[1.   0.1 ]\n",
      "  [0.   1.  ]]\n",
      "\n",
      " [[1.   0.44]\n",
      "  [0.   1.  ]]\n",
      "\n",
      " [[1.   2.94]\n",
      "  [0.   1.  ]]\n",
      "\n",
      " [[1.   2.98]\n",
      "  [0.   1.  ]]\n",
      "\n",
      " [[0.   0.  ]\n",
      "  [0.   0.  ]]]\n",
      "iteration 3\n",
      "[[[1.   0.1 ]\n",
      "  [0.   1.  ]]\n",
      "\n",
      " [[1.   0.44]\n",
      "  [0.   1.  ]]\n",
      "\n",
      " [[1.   2.94]\n",
      "  [0.   1.  ]]\n",
      "\n",
      " [[1.   2.98]\n",
      "  [0.   1.  ]]\n",
      "\n",
      " [[1.   3.28]\n",
      "  [0.   1.  ]]]\n"
     ]
    }
   ],
   "source": [
    "length = [0.1, 0.34, 2.5, 0.04, 0.3]\n",
    "m = len(length)\n",
    "\n",
    "tm = np.zeros((m, 2, 2))\n",
    "tm[0] = generate_dift(length[0])\n",
    "for index in np.arange(m-1):\n",
    "    print(\"iteration \"+ str(index))\n",
    "    mymat = opu.md(length[index+1])\n",
    "    #print(mymat)\n",
    "    tm[index + 1] = opu.md(length[index+1]).dot(tm[index])\n",
    "    print(tm)\n",
    "    "
   ]
  },
  {
   "cell_type": "code",
   "execution_count": 30,
   "id": "f0d60569-2bfa-4fc9-b641-869b5831287c",
   "metadata": {},
   "outputs": [
    {
     "data": {
      "text/plain": [
       "array([0, 1, 2, 3, 4])"
      ]
     },
     "execution_count": 30,
     "metadata": {},
     "output_type": "execute_result"
    }
   ],
   "source": [
    "np.arange(m)"
   ]
  },
  {
   "cell_type": "code",
   "execution_count": 31,
   "id": "4a64dc3d-cb59-4263-84bc-10267548dda5",
   "metadata": {},
   "outputs": [
    {
     "data": {
      "text/plain": [
       "array([[0., 0.],\n",
       "       [0., 0.]])"
      ]
     },
     "execution_count": 31,
     "metadata": {},
     "output_type": "execute_result"
    }
   ],
   "source": [
    "tm [0]"
   ]
  },
  {
   "cell_type": "code",
   "execution_count": 39,
   "id": "0d814e24-e270-442d-9286-c94aec119a54",
   "metadata": {},
   "outputs": [
    {
     "data": {
      "text/plain": [
       "0.42269999999999996"
      ]
     },
     "execution_count": 39,
     "metadata": {},
     "output_type": "execute_result"
    }
   ],
   "source": [
    "0.1227+0.04+0.055+0.04+0.125+0.04"
   ]
  },
  {
   "cell_type": "code",
   "execution_count": 40,
   "id": "30715796-d82f-4796-96a7-5f4f1acbf91a",
   "metadata": {},
   "outputs": [
    {
     "data": {
      "text/plain": [
       "0.1627"
      ]
     },
     "execution_count": 40,
     "metadata": {},
     "output_type": "execute_result"
    }
   ],
   "source": [
    "0.1227+0.04"
   ]
  },
  {
   "cell_type": "code",
   "execution_count": 41,
   "id": "d912afd9-1c9a-4a90-bf05-bbf50fa9bbdd",
   "metadata": {},
   "outputs": [
    {
     "data": {
      "text/plain": [
       "0.2177"
      ]
     },
     "execution_count": 41,
     "metadata": {},
     "output_type": "execute_result"
    }
   ],
   "source": [
    "0.1227+0.04+0.055"
   ]
  },
  {
   "cell_type": "code",
   "execution_count": 42,
   "id": "7f99bc01-bf49-4172-a04e-2ae7632e5ec5",
   "metadata": {},
   "outputs": [
    {
     "data": {
      "text/plain": [
       "0.2577"
      ]
     },
     "execution_count": 42,
     "metadata": {},
     "output_type": "execute_result"
    }
   ],
   "source": [
    "0.1227+0.04+0.055+0.04"
   ]
  },
  {
   "cell_type": "code",
   "execution_count": 43,
   "id": "1afa69f7-c844-4b29-84c5-64bdd75aa194",
   "metadata": {},
   "outputs": [
    {
     "data": {
      "text/plain": [
       "0.3827"
      ]
     },
     "execution_count": 43,
     "metadata": {},
     "output_type": "execute_result"
    }
   ],
   "source": [
    "0.1227+0.04+0.055+0.04+0.125"
   ]
  },
  {
   "cell_type": "code",
   "execution_count": 44,
   "id": "fcf17355-d6cb-4076-9625-b8d1ad6cd408",
   "metadata": {},
   "outputs": [
    {
     "data": {
      "text/plain": [
       "array([0])"
      ]
     },
     "execution_count": 44,
     "metadata": {},
     "output_type": "execute_result"
    }
   ],
   "source": [
    "np.arange(0,1)"
   ]
  },
  {
   "cell_type": "code",
   "execution_count": null,
   "id": "d860f0b7-35ab-492e-908d-6ea1b311abf1",
   "metadata": {},
   "outputs": [],
   "source": []
  }
 ],
 "metadata": {
  "kernelspec": {
   "display_name": "Python 3 (ipykernel)",
   "language": "python",
   "name": "python3"
  },
  "language_info": {
   "codemirror_mode": {
    "name": "ipython",
    "version": 3
   },
   "file_extension": ".py",
   "mimetype": "text/x-python",
   "name": "python",
   "nbconvert_exporter": "python",
   "pygments_lexer": "ipython3",
   "version": "3.8.13"
  }
 },
 "nbformat": 4,
 "nbformat_minor": 5
}
