{
 "cells": [
  {
   "cell_type": "code",
   "execution_count": 32,
   "id": "7402a04a-494d-4b87-9aaf-8ffd77e9ea01",
   "metadata": {},
   "outputs": [],
   "source": [
    "import numpy as np\n",
    "import pandas as pd\n",
    "import matplotlib.pyplot as plt\n",
    "import sys, random\n",
    "\n",
    "sys.path.append(\"/Users/pickle/Documents/GitHub/Diablo_2\")\n",
    "from beam import beam\n",
    "import madx_utils.madx_utils as mxu\n",
    "import optics_utils.transfer_matrices as opu"
   ]
  },
  {
   "cell_type": "code",
   "execution_count": 33,
   "id": "5f155d4f",
   "metadata": {},
   "outputs": [
    {
     "data": {
      "text/plain": [
       "0.6052329548311686"
      ]
     },
     "execution_count": 33,
     "metadata": {},
     "output_type": "execute_result"
    }
   ],
   "source": [
    "random.random()"
   ]
  },
  {
   "cell_type": "code",
   "execution_count": 2,
   "id": "f413ad8e-d6b0-4ef1-b58c-0adfc67be68d",
   "metadata": {},
   "outputs": [],
   "source": [
    "lattice_file = \"lattice_example/optics_71.7_MeV.twiss\"\n",
    "df_optics = mxu.get_twiss(lattice_file)\n",
    "df_optics[:10];"
   ]
  },
  {
   "cell_type": "code",
   "execution_count": 2,
   "id": "e55c6657-4f90-4d79-a995-1a5297ac0ae6",
   "metadata": {},
   "outputs": [
    {
     "name": "stdout",
     "output_type": "stream",
     "text": [
      "beam created without any input beam distribution. Use read_distribution(filename)\n"
     ]
    },
    {
     "data": {
      "text/plain": [
       "'The beam distribution has been loaded successfully , You should check the distribution is correctly formatted into the dataframe - type thenameofyourobject.distribution'"
      ]
     },
     "execution_count": 2,
     "metadata": {},
     "output_type": "execute_result"
    }
   ],
   "source": [
    "bm = beam.Beam()\n",
    "bm.read_distribution(\"distribution_example/CCL_Output_71.7.dat\")"
   ]
  },
  {
   "cell_type": "code",
   "execution_count": 13,
   "id": "7f8798f3",
   "metadata": {},
   "outputs": [],
   "source": [
    "from scipy import stats"
   ]
  },
  {
   "cell_type": "code",
   "execution_count": 35,
   "id": "8d4d40b0-3dc8-4001-a6de-5dec89fbe045",
   "metadata": {},
   "outputs": [
    {
     "data": {
      "text/plain": [
       "(0.15201860705198553, 0.000605964336954293)"
      ]
     },
     "execution_count": 35,
     "metadata": {},
     "output_type": "execute_result"
    }
   ],
   "source": [
    "df = bm.distribution[[\"X(mm)\", \"XP(mrad)\"]]\n",
    "\n",
    "mean = np.mean(df[\"X(mm)\"])\n",
    "\n",
    "standard_deviation = np.std(df[\"X(mm)\"])\n",
    "\n",
    "xrange = np.arange(min(df[\"X(mm)\"]), max(df[\"X(mm)\"]), 0.01)\n",
    "beam_distribution = stats.norm.pdf(xrange,loc=mean, scale=standard_deviation)\n",
    "beam_distribution;\n",
    "np.std(df[\"X(mm)\"]), np.mean(df[\"X(mm)\"])"
   ]
  },
  {
   "cell_type": "code",
   "execution_count": 30,
   "id": "a3d9f1f8",
   "metadata": {},
   "outputs": [
    {
     "data": {
      "text/plain": [
       "[<matplotlib.lines.Line2D at 0x7fa3eaf9e910>]"
      ]
     },
     "execution_count": 30,
     "metadata": {},
     "output_type": "execute_result"
    },
    {
     "data": {
      "image/png": "[encoded data removed]",
      "text/plain": [
       "<Figure size 432x288 with 1 Axes>"
      ]
     },
     "metadata": {
      "needs_background": "light"
     },
     "output_type": "display_data"
    }
   ],
   "source": [
    "plt.hist(df[\"X(mm)\"], bins=50, density = True, histtype = \"step\");\n",
    "plt.plot(xrange, beam_distribution)"
   ]
  },
  {
   "cell_type": "code",
   "execution_count": 43,
   "id": "17f408e9",
   "metadata": {},
   "outputs": [
    {
     "data": {
      "text/plain": [
       "0.05095204985105839"
      ]
     },
     "execution_count": 43,
     "metadata": {},
     "output_type": "execute_result"
    }
   ],
   "source": [
    "len(df[\"X(mm)\"])\n",
    "random.random()"
   ]
  },
  {
   "cell_type": "code",
   "execution_count": 56,
   "id": "9bdb9788",
   "metadata": {},
   "outputs": [],
   "source": [
    "size_distr = len(df[\"X(mm)\"])\n",
    "x_fsm = np.arange(-16, 16, 0.125)\n",
    "simu_pdf = stats.norm.pdf(x_fsm,loc=0.01, scale=0.16)\n",
    "size_fsm_simu = len(simu_pdf)\n",
    "noise = [random.random()/4 for i in range(size_fsm_simu)]\n",
    "fsm_signal = simu_pdf + noise"
   ]
  },
  {
   "cell_type": "code",
   "execution_count": 78,
   "id": "f9b7eee0",
   "metadata": {},
   "outputs": [
    {
     "data": {
      "text/plain": [
       "<matplotlib.legend.Legend at 0x7fa3e7ca4cd0>"
      ]
     },
     "execution_count": 78,
     "metadata": {},
     "output_type": "execute_result"
    },
    {
     "data": {
      "image/png": "[encoded data removed]",
      "text/plain": [
       "<Figure size 432x288 with 1 Axes>"
      ]
     },
     "metadata": {
      "needs_background": "light"
     },
     "output_type": "display_data"
    }
   ],
   "source": [
    "plt.hist(df[\"X(mm)\"], bins=16, density = True, histtype = \"step\", label = \"Model\");\n",
    "plt.plot(xrange, beam_distribution, \"r\", label = \"Gaussian fit from model\")\n",
    "#plt.plot(x_fsm, simu_pdf, \"o\")\n",
    "plt.bar(x_fsm, fsm_signal, width = 0.125, fill = False, label = \"Measured with noise\")\n",
    "plt.xlim(-1,1)\n",
    "plt.legend()"
   ]
  },
  {
   "cell_type": "code",
   "execution_count": 99,
   "id": "2a17a30d",
   "metadata": {},
   "outputs": [],
   "source": [
    "fsm = pd.read_csv(\"BD/FSM/beam-profile-fsm_export-profiles_EMQ1_60A_EMQ2_30A.csv\", skiprows=23)\n",
    "fsm;"
   ]
  },
  {
   "cell_type": "code",
   "execution_count": 105,
   "id": "622ee338",
   "metadata": {},
   "outputs": [
    {
     "data": {
      "image/png": "[encoded data removed]",
      "text/plain": [
       "<Figure size 432x288 with 1 Axes>"
      ]
     },
     "metadata": {
      "needs_background": "light"
     },
     "output_type": "display_data"
    }
   ],
   "source": [
    "plt.plot(fsm[\"Fibre Position [m]\"], fsm[\"Long Window Mean of Mean [A]\"]);"
   ]
  },
  {
   "cell_type": "code",
   "execution_count": null,
   "id": "76f1bbc3",
   "metadata": {},
   "outputs": [],
   "source": []
  }
 ],
 "metadata": {
  "kernelspec": {
   "display_name": "Python 3 (ipykernel)",
   "language": "python",
   "name": "python3"
  },
  "language_info": {
   "codemirror_mode": {
    "name": "ipython",
    "version": 3
   },
   "file_extension": ".py",
   "mimetype": "text/x-python",
   "name": "python",
   "nbconvert_exporter": "python",
   "pygments_lexer": "ipython3",
   "version": "3.8.13"
  }
 },
 "nbformat": 4,
 "nbformat_minor": 5
}
