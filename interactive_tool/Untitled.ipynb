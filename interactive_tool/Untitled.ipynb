{
 "cells": [
  {
   "cell_type": "code",
   "execution_count": 2,
   "id": "e59a2c84-f241-484f-9a6a-ee0faeac775f",
   "metadata": {},
   "outputs": [],
   "source": [
    "import os, sys, io\n",
    "import matplotlib.pyplot as plt\n",
    "import pandas as pd\n",
    "import numpy as np\n",
    "%matplotlib inline\n",
    "font = {'size'   : 14}\n",
    "plt.matplotlib.rc('font', **font)\n",
    "import glob\n",
    "from scipy import constants\n",
    "import scipy.constants\n",
    "E_0 = scipy.constants.physical_constants[\"proton mass energy equivalent in MeV\"][0]*0.001 # (938.2720813, 'MeV', 5.8e-06) in GeV\n",
    "\n",
    "sys.path.append(\"/home/s.aumon/Python_Packages/Diablo_2/\")\n",
    "from beam import beam\n",
    "import madx_utils.madx_utils as mxu"
   ]
  },
  {
   "cell_type": "code",
   "execution_count": 3,
   "id": "54f11b44-90e6-4838-94ff-b7ae4e93d158",
   "metadata": {},
   "outputs": [],
   "source": [
    "import interactive_beam_envelop"
   ]
  },
  {
   "cell_type": "code",
   "execution_count": 4,
   "id": "16e54a30-ef0f-4f05-9e97-f8438c5ffd19",
   "metadata": {},
   "outputs": [],
   "source": [
    "distribution_file = \"/home/s.aumon/Python_Packages/Python_Dev/interactive_tool/CCL_Output_71.7.dat\""
   ]
  },
  {
   "cell_type": "code",
   "execution_count": 8,
   "id": "55f89a3e-ce5c-4d4a-89b7-9d80afd2b111",
   "metadata": {},
   "outputs": [
    {
     "ename": "TypeError",
     "evalue": "__init__() missing 2 required positional arguments: 'file_input_distribution' and 'input_lattice'",
     "output_type": "error",
     "traceback": [
      "\u001b[0;31m---------------------------------------------------------------------------\u001b[0m",
      "\u001b[0;31mTypeError\u001b[0m                                 Traceback (most recent call last)",
      "Input \u001b[0;32mIn [8]\u001b[0m, in \u001b[0;36m<cell line: 1>\u001b[0;34m()\u001b[0m\n\u001b[0;32m----> 1\u001b[0m interactive_plot \u001b[38;5;241m=\u001b[39m \u001b[43minteractive_beam_envelop\u001b[49m\u001b[38;5;241;43m.\u001b[39;49m\u001b[43mInteractive\u001b[49m\u001b[43m(\u001b[49m\u001b[43m)\u001b[49m\n",
      "\u001b[0;31mTypeError\u001b[0m: __init__() missing 2 required positional arguments: 'file_input_distribution' and 'input_lattice'"
     ]
    }
   ],
   "source": [
    "interactive_plot = interactive_beam_envelop.Interactive()"
   ]
  },
  {
   "cell_type": "code",
   "execution_count": 6,
   "id": "bd3da1ae-9375-42d8-a262-0feec90746ef",
   "metadata": {},
   "outputs": [
    {
     "ename": "NameError",
     "evalue": "name 'interactive_plot' is not defined",
     "output_type": "error",
     "traceback": [
      "\u001b[0;31m---------------------------------------------------------------------------\u001b[0m",
      "\u001b[0;31mNameError\u001b[0m                                 Traceback (most recent call last)",
      "Input \u001b[0;32mIn [6]\u001b[0m, in \u001b[0;36m<cell line: 1>\u001b[0;34m()\u001b[0m\n\u001b[0;32m----> 1\u001b[0m \u001b[43minteractive_plot\u001b[49m\u001b[38;5;241m.\u001b[39mimport_beam_distribution(distribution_file)\n",
      "\u001b[0;31mNameError\u001b[0m: name 'interactive_plot' is not defined"
     ]
    }
   ],
   "source": [
    "interactive_plot.import_beam_distribution(distribution_file)"
   ]
  },
  {
   "cell_type": "code",
   "execution_count": 6,
   "id": "8115cb3f-5b5d-4ae0-a2b0-d651a7b888b1",
   "metadata": {},
   "outputs": [
    {
     "data": {
      "text/plain": [
       "0       0.299\n",
       "1      -0.200\n",
       "2       0.266\n",
       "3      -0.322\n",
       "4      -0.381\n",
       "        ...  \n",
       "9753   -0.061\n",
       "9754    0.526\n",
       "9755    0.065\n",
       "9756   -0.211\n",
       "9757    0.589\n",
       "Name: X(mm), Length: 9758, dtype: float64"
      ]
     },
     "execution_count": 6,
     "metadata": {},
     "output_type": "execute_result"
    }
   ],
   "source": [
    "interactive_plot.get_x()"
   ]
  },
  {
   "cell_type": "code",
   "execution_count": null,
   "id": "bab3a1fd-116e-474a-85ff-e5c001ba33b8",
   "metadata": {},
   "outputs": [],
   "source": []
  }
 ],
 "metadata": {
  "kernelspec": {
   "display_name": "Python 3 (ipykernel)",
   "language": "python",
   "name": "python3"
  },
  "language_info": {
   "codemirror_mode": {
    "name": "ipython",
    "version": 3
   },
   "file_extension": ".py",
   "mimetype": "text/x-python",
   "name": "python",
   "nbconvert_exporter": "python",
   "pygments_lexer": "ipython3",
   "version": "3.9.12"
  }
 },
 "nbformat": 4,
 "nbformat_minor": 5
}
