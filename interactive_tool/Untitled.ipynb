{
 "cells": [
  {
   "cell_type": "code",
   "execution_count": 1,
   "id": "e59a2c84-f241-484f-9a6a-ee0faeac775f",
   "metadata": {},
   "outputs": [],
   "source": [
    "import os, sys, io\n",
    "import matplotlib.pyplot as plt\n",
    "import pandas as pd\n",
    "import numpy as np\n",
    "%matplotlib inline\n",
    "font = {'size'   : 14}\n",
    "plt.matplotlib.rc('font', **font)\n",
    "import glob\n",
    "from scipy import constants\n",
    "import scipy.constants\n",
    "E_0 = scipy.constants.physical_constants[\"proton mass energy equivalent in MeV\"][0]*0.001 # (938.2720813, 'MeV', 5.8e-06) in GeV\n",
    "\n",
    "sys.path.append(\"/Users/pickle/Documents/Diablo_2/\")\n",
    "from beam import beam\n",
    "import madx_utils.madx_utils as mxu"
   ]
  },
  {
   "cell_type": "code",
   "execution_count": 2,
   "id": "54f11b44-90e6-4838-94ff-b7ae4e93d158",
   "metadata": {},
   "outputs": [],
   "source": [
    "import interactive_beam_envelop"
   ]
  },
  {
   "cell_type": "code",
   "execution_count": 3,
   "id": "16e54a30-ef0f-4f05-9e97-f8438c5ffd19",
   "metadata": {},
   "outputs": [],
   "source": [
    "distribution_file = \"/Users/pickle/ADAM/L-HEBT/L-HEBT_Matching/13MKS_Phase_Offset/CCL_Output_71.7.dat\""
   ]
  },
  {
   "cell_type": "code",
   "execution_count": 4,
   "id": "55f89a3e-ce5c-4d4a-89b7-9d80afd2b111",
   "metadata": {},
   "outputs": [],
   "source": [
    "interactive_plot = interactive_beam_envelop.Interactive()"
   ]
  },
  {
   "cell_type": "code",
   "execution_count": 5,
   "id": "bd3da1ae-9375-42d8-a262-0feec90746ef",
   "metadata": {},
   "outputs": [],
   "source": [
    "interactive_plot.import_beam_distribution(distribution_file)"
   ]
  },
  {
   "cell_type": "code",
   "execution_count": 6,
   "id": "8115cb3f-5b5d-4ae0-a2b0-d651a7b888b1",
   "metadata": {},
   "outputs": [
    {
     "data": {
      "text/plain": [
       "0       0.299\n",
       "1      -0.200\n",
       "2       0.266\n",
       "3      -0.322\n",
       "4      -0.381\n",
       "        ...  \n",
       "9753   -0.061\n",
       "9754    0.526\n",
       "9755    0.065\n",
       "9756   -0.211\n",
       "9757    0.589\n",
       "Name: X(mm), Length: 9758, dtype: float64"
      ]
     },
     "execution_count": 6,
     "metadata": {},
     "output_type": "execute_result"
    }
   ],
   "source": [
    "interactive_plot.get_x()"
   ]
  },
  {
   "cell_type": "code",
   "execution_count": null,
   "id": "bab3a1fd-116e-474a-85ff-e5c001ba33b8",
   "metadata": {},
   "outputs": [],
   "source": []
  }
 ],
 "metadata": {
  "kernelspec": {
   "display_name": "Python 3 (ipykernel)",
   "language": "python",
   "name": "python3"
  },
  "language_info": {
   "codemirror_mode": {
    "name": "ipython",
    "version": 3
   },
   "file_extension": ".py",
   "mimetype": "text/x-python",
   "name": "python",
   "nbconvert_exporter": "python",
   "pygments_lexer": "ipython3",
   "version": "3.8.8"
  }
 },
 "nbformat": 4,
 "nbformat_minor": 5
}
